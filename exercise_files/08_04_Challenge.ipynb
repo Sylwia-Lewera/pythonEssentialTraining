{
 "cells": [
  {
   "cell_type": "markdown",
   "id": "522e4770",
   "metadata": {},
   "source": [
    "## Message Exceptions\n",
    "\n",
    "The SaveMessages class now has limited memory and should only be able to hold a maximum of 10 messages at once.\n",
    "\n",
    "This challenge has three parts, outlined in comments below. \n",
    "\n",
    "**\\# 1. Finish creating the TooManyMessagesException class**\n",
    "\n",
    "Fill in the TooManyMessagesException class. Add a custom message!\n",
    "\n",
    "**\\# 2. Raise a TooManyMessagesException exception here**\n",
    "\n",
    "Make sure that the SaveMessages class doesn't get over-full and raises an Exception if the max_messages limit is reached.\n",
    "\n",
    "**\\# 3. Catch a TooManyMessagesException and print the messages**\n",
    "\n",
    "Modify this code so that, if an exception is raised when the message is sent, the messages are printed out (emptying the message list) and the message is re-sent. Make sure to print out any remaining messages at the end!\n"
   ]
  },
  {
   "cell_type": "code",
   "execution_count": 22,
   "id": "4261d50d",
   "metadata": {},
   "outputs": [],
   "source": [
    "from datetime import datetime\n",
    "\n",
    "def getCurrentTime():\n",
    "    return datetime.now().strftime(\"%m-%d-%Y %H:%M:%S\")\n",
    "\n",
    "\n",
    "class Messenger:\n",
    "    def __init__(self, listeners=[]):\n",
    "        self.listeners = listeners\n",
    "    \n",
    "    def send(self, message):\n",
    "        for listener in self.listeners:\n",
    "            listener.receive(message)\n",
    "\n",
    "    def receive(self, message):\n",
    "        pass\n",
    "\n",
    "# 1. Finish creating the TooManyMessagesException class\n",
    "class TooManyMessagesException(Exception):\n",
    "    def __init__(self, message):\n",
    "        super().__init__(f'To many messages sent! Message: \\\"{message}\\\" could not be added.')\n",
    "\n",
    "class SaveMessages(Messenger):\n",
    "    def __init__(self, listeners=[]):\n",
    "        super().__init__(listeners)\n",
    "        self.messages = []\n",
    "        self.max_messages = 10\n",
    "        \n",
    "    def receive(self, message):\n",
    "        if len(self.messages) >= self.max_messages:\n",
    "            #2. Raise a TooManyMessagesException exception here\n",
    "            raise TooManyMessagesException(message)\n",
    "        self.messages.append({'message': message, 'time': getCurrentTime()})\n",
    "        \n",
    "    def printMessages(self):\n",
    "        for m in self.messages:\n",
    "            print(f'Message: \"{m[\"message\"]}\" Time: {m[\"time\"]}')\n",
    "        self.messages = []\n",
    "\n"
   ]
  },
  {
   "cell_type": "code",
   "execution_count": 23,
   "id": "d4a45805",
   "metadata": {},
   "outputs": [],
   "source": [
    "listener = SaveMessages()\n",
    "sender = Messenger([listener])"
   ]
  },
  {
   "cell_type": "code",
   "execution_count": 27,
   "id": "6baf6405",
   "metadata": {},
   "outputs": [
    {
     "name": "stdout",
     "output_type": "stream",
     "text": [
      "Message: \"This is message 10\" Time: 11-22-2023 16:13:06\n",
      "Message: \"This is message 11\" Time: 11-22-2023 16:13:06\n",
      "Message: \"This is message 12\" Time: 11-22-2023 16:13:06\n",
      "Message: \"This is message 13\" Time: 11-22-2023 16:13:06\n",
      "Message: \"This is message 14\" Time: 11-22-2023 16:13:06\n",
      "Message: \"This is message 15\" Time: 11-22-2023 16:13:06\n",
      "Message: \"This is message 16\" Time: 11-22-2023 16:13:06\n",
      "Message: \"This is message 17\" Time: 11-22-2023 16:13:06\n",
      "Message: \"This is message 18\" Time: 11-22-2023 16:13:06\n",
      "Message: \"This is message 19\" Time: 11-22-2023 16:13:06\n",
      "Message: \"This is message 0\" Time: 11-22-2023 16:14:02\n",
      "Message: \"This is message 1\" Time: 11-22-2023 16:14:02\n",
      "Message: \"This is message 2\" Time: 11-22-2023 16:14:02\n",
      "Message: \"This is message 3\" Time: 11-22-2023 16:14:02\n",
      "Message: \"This is message 4\" Time: 11-22-2023 16:14:02\n",
      "Message: \"This is message 5\" Time: 11-22-2023 16:14:02\n",
      "Message: \"This is message 6\" Time: 11-22-2023 16:14:02\n",
      "Message: \"This is message 7\" Time: 11-22-2023 16:14:02\n",
      "Message: \"This is message 8\" Time: 11-22-2023 16:14:02\n",
      "Message: \"This is message 9\" Time: 11-22-2023 16:14:02\n",
      "Message: \"This is message 10\" Time: 11-22-2023 16:14:02\n",
      "Message: \"This is message 11\" Time: 11-22-2023 16:14:02\n",
      "Message: \"This is message 12\" Time: 11-22-2023 16:14:02\n",
      "Message: \"This is message 13\" Time: 11-22-2023 16:14:02\n",
      "Message: \"This is message 14\" Time: 11-22-2023 16:14:02\n",
      "Message: \"This is message 15\" Time: 11-22-2023 16:14:02\n",
      "Message: \"This is message 16\" Time: 11-22-2023 16:14:02\n",
      "Message: \"This is message 17\" Time: 11-22-2023 16:14:02\n",
      "Message: \"This is message 18\" Time: 11-22-2023 16:14:02\n",
      "Message: \"This is message 19\" Time: 11-22-2023 16:14:02\n"
     ]
    }
   ],
   "source": [
    "# 3. Catch a TooManyMessagesException and print the messages \n",
    "for i in range(0, 20):\n",
    "    try:\n",
    "        sender.send(f'This is message {i}')\n",
    "    except:\n",
    "        listener.printMessages()\n",
    "        sender.send(f'This is message {i}')\n",
    "\n",
    "listener.printMessages()"
   ]
  },
  {
   "cell_type": "code",
   "execution_count": 28,
   "id": "59c39e74",
   "metadata": {},
   "outputs": [
    {
     "name": "stdout",
     "output_type": "stream",
     "text": [
      "ArithmeticError\n"
     ]
    }
   ],
   "source": [
    "try:\n",
    "    1/0\n",
    "except ArithmeticError:\n",
    "    print('ArithmeticError')\n",
    "except Exception:\n",
    "    print('Exception')\n",
    "except DivisionByZeroError:\n",
    "    print('DivisionByZero')"
   ]
  },
  {
   "cell_type": "code",
   "execution_count": null,
   "id": "e15fc678-357c-4d9c-aef0-cfd2f0f557cc",
   "metadata": {},
   "outputs": [],
   "source": []
  }
 ],
 "metadata": {
  "kernelspec": {
   "display_name": "Python 3 (ipykernel)",
   "language": "python",
   "name": "python3"
  },
  "language_info": {
   "codemirror_mode": {
    "name": "ipython",
    "version": 3
   },
   "file_extension": ".py",
   "mimetype": "text/x-python",
   "name": "python",
   "nbconvert_exporter": "python",
   "pygments_lexer": "ipython3",
   "version": "3.11.3"
  },
  "vscode": {
   "interpreter": {
    "hash": "949777d72b0d2535278d3dc13498b2535136f6dfe0678499012e853ee9abcab1"
   }
  }
 },
 "nbformat": 4,
 "nbformat_minor": 5
}
