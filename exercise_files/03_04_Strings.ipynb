{
 "cells": [
  {
   "cell_type": "code",
   "execution_count": 15,
   "id": "035347bb",
   "metadata": {},
   "outputs": [],
   "source": [
    "import math"
   ]
  },
  {
   "cell_type": "markdown",
   "id": "02d18456",
   "metadata": {},
   "source": [
    "## Strings"
   ]
  },
  {
   "cell_type": "markdown",
   "id": "bfc860a0",
   "metadata": {},
   "source": [
    "### Slicing"
   ]
  },
  {
   "cell_type": "code",
   "execution_count": 19,
   "id": "387a2e6e",
   "metadata": {},
   "outputs": [],
   "source": [
    "name = 'My name is Ryan Mitchell'"
   ]
  },
  {
   "cell_type": "code",
   "execution_count": 2,
   "id": "1ebc90d0",
   "metadata": {},
   "outputs": [
    {
     "data": {
      "text/plain": [
       "'M'"
      ]
     },
     "execution_count": 2,
     "metadata": {},
     "output_type": "execute_result"
    }
   ],
   "source": [
    "name[0]"
   ]
  },
  {
   "cell_type": "code",
   "execution_count": 3,
   "id": "927b4d55",
   "metadata": {},
   "outputs": [
    {
     "data": {
      "text/plain": [
       "'y'"
      ]
     },
     "execution_count": 3,
     "metadata": {},
     "output_type": "execute_result"
    }
   ],
   "source": [
    "name[1]"
   ]
  },
  {
   "cell_type": "code",
   "execution_count": 4,
   "id": "37f585af",
   "metadata": {},
   "outputs": [
    {
     "data": {
      "text/plain": [
       "'My name'"
      ]
     },
     "execution_count": 4,
     "metadata": {},
     "output_type": "execute_result"
    }
   ],
   "source": [
    "name[0:7]"
   ]
  },
  {
   "cell_type": "code",
   "execution_count": 5,
   "id": "147d51d5",
   "metadata": {},
   "outputs": [
    {
     "data": {
      "text/plain": [
       "'My name'"
      ]
     },
     "execution_count": 5,
     "metadata": {},
     "output_type": "execute_result"
    }
   ],
   "source": [
    "name[:7]"
   ]
  },
  {
   "cell_type": "code",
   "execution_count": 6,
   "id": "8642d491",
   "metadata": {},
   "outputs": [
    {
     "data": {
      "text/plain": [
       "'Ryan Mitchell'"
      ]
     },
     "execution_count": 6,
     "metadata": {},
     "output_type": "execute_result"
    }
   ],
   "source": [
    "name[11:]"
   ]
  },
  {
   "cell_type": "code",
   "execution_count": 7,
   "id": "0eb13957",
   "metadata": {},
   "outputs": [],
   "source": [
    "myList = [1,2,3,4,5]"
   ]
  },
  {
   "cell_type": "code",
   "execution_count": 8,
   "id": "11dc06e6",
   "metadata": {},
   "outputs": [
    {
     "data": {
      "text/plain": [
       "[3, 4]"
      ]
     },
     "execution_count": 8,
     "metadata": {},
     "output_type": "execute_result"
    }
   ],
   "source": [
    "myList[2:4]"
   ]
  },
  {
   "cell_type": "code",
   "execution_count": 9,
   "id": "6644ab0b",
   "metadata": {},
   "outputs": [
    {
     "data": {
      "text/plain": [
       "24"
      ]
     },
     "execution_count": 9,
     "metadata": {},
     "output_type": "execute_result"
    }
   ],
   "source": [
    "len(name)"
   ]
  },
  {
   "cell_type": "code",
   "execution_count": 10,
   "id": "75b57667",
   "metadata": {},
   "outputs": [
    {
     "data": {
      "text/plain": [
       "5"
      ]
     },
     "execution_count": 10,
     "metadata": {},
     "output_type": "execute_result"
    }
   ],
   "source": [
    "len(myList)"
   ]
  },
  {
   "cell_type": "markdown",
   "id": "2f62d3a0",
   "metadata": {},
   "source": [
    "### Formatting"
   ]
  },
  {
   "cell_type": "code",
   "execution_count": 11,
   "id": "46e3eee4",
   "metadata": {},
   "outputs": [
    {
     "data": {
      "text/plain": [
       "'My number is: 5'"
      ]
     },
     "execution_count": 11,
     "metadata": {},
     "output_type": "execute_result"
    }
   ],
   "source": [
    "'My number is: '+str(5)"
   ]
  },
  {
   "cell_type": "code",
   "execution_count": 12,
   "id": "50b4d13a",
   "metadata": {},
   "outputs": [
    {
     "data": {
      "text/plain": [
       "'My number is: 5'"
      ]
     },
     "execution_count": 12,
     "metadata": {},
     "output_type": "execute_result"
    }
   ],
   "source": [
    "f'My number is: {5}'"
   ]
  },
  {
   "cell_type": "code",
   "execution_count": 14,
   "id": "bd3f66d7",
   "metadata": {},
   "outputs": [
    {
     "data": {
      "text/plain": [
       "'My number is: 5 and twice that is 10'"
      ]
     },
     "execution_count": 14,
     "metadata": {},
     "output_type": "execute_result"
    }
   ],
   "source": [
    "f'My number is: {5} and twice that is {2*5}'"
   ]
  },
  {
   "cell_type": "code",
   "execution_count": 16,
   "id": "9581a9bc",
   "metadata": {},
   "outputs": [
    {
     "data": {
      "text/plain": [
       "'Pi is: 3.14'"
      ]
     },
     "execution_count": 16,
     "metadata": {},
     "output_type": "execute_result"
    }
   ],
   "source": [
    "f'Pi is: {math.pi:.2f}'"
   ]
  },
  {
   "cell_type": "code",
   "execution_count": 17,
   "id": "4ac812ce",
   "metadata": {},
   "outputs": [
    {
     "data": {
      "text/plain": [
       "'Pi is: 3.141592653589793'"
      ]
     },
     "execution_count": 17,
     "metadata": {},
     "output_type": "execute_result"
    }
   ],
   "source": [
    "'Pi is: {}'.format(math.pi)"
   ]
  },
  {
   "cell_type": "markdown",
   "id": "9f153341",
   "metadata": {},
   "source": [
    "### Multi-line Strings"
   ]
  },
  {
   "cell_type": "code",
   "execution_count": 2,
   "id": "92cb7feb",
   "metadata": {},
   "outputs": [],
   "source": [
    "myString = '''\n",
    "Here is a long block of text\n",
    "I can add newlines!\n",
    "the text doesn't stop until it sees \\'\\'\\'\n",
    "\n",
    "'''"
   ]
  },
  {
   "cell_type": "code",
   "execution_count": 22,
   "id": "496129f8",
   "metadata": {},
   "outputs": [
    {
     "data": {
      "text/plain": [
       "\"\\nHere is a long block of text\\nI can add newlines!\\nthe text doesn't stop until it sees '''\\n\\n\""
      ]
     },
     "execution_count": 22,
     "metadata": {},
     "output_type": "execute_result"
    }
   ],
   "source": [
    "myString"
   ]
  },
  {
   "cell_type": "code",
   "execution_count": 23,
   "id": "a9b4ddec",
   "metadata": {},
   "outputs": [
    {
     "name": "stdout",
     "output_type": "stream",
     "text": [
      "\n",
      "Here is a long block of text\n",
      "I can add newlines!\n",
      "the text doesn't stop until it sees '''\n",
      "\n",
      "\n"
     ]
    }
   ],
   "source": [
    "print(myString)"
   ]
  },
  {
   "cell_type": "code",
   "execution_count": 3,
   "id": "5fb8f96a",
   "metadata": {},
   "outputs": [
    {
     "name": "stdout",
     "output_type": "stream",
     "text": [
      "\n",
      " 0\n",
      "H 1\n",
      "e 2\n",
      "r 3\n",
      "e 4\n",
      "  5\n",
      "i 6\n",
      "s 7\n",
      "  8\n",
      "a 9\n",
      "  10\n",
      "l 11\n",
      "o 12\n",
      "n 13\n",
      "g 14\n",
      "  15\n",
      "b 16\n",
      "l 17\n",
      "o 18\n",
      "c 19\n",
      "k 20\n",
      "  21\n",
      "o 22\n",
      "f 23\n",
      "  24\n",
      "t 25\n",
      "e 26\n",
      "x 27\n",
      "t 28\n",
      "\n",
      " 29\n",
      "I 30\n",
      "  31\n",
      "c 32\n",
      "a 33\n",
      "n 34\n",
      "  35\n",
      "a 36\n",
      "d 37\n",
      "d 38\n",
      "  39\n",
      "n 40\n",
      "e 41\n",
      "w 42\n",
      "l 43\n",
      "i 44\n",
      "n 45\n",
      "e 46\n",
      "s 47\n",
      "! 48\n",
      "\n",
      " 49\n",
      "t 50\n",
      "h 51\n",
      "e 52\n",
      "  53\n",
      "t 54\n",
      "e 55\n",
      "x 56\n",
      "t 57\n",
      "  58\n",
      "d 59\n",
      "o 60\n",
      "e 61\n",
      "s 62\n",
      "n 63\n",
      "' 64\n",
      "t 65\n",
      "  66\n",
      "s 67\n",
      "t 68\n",
      "o 69\n",
      "p 70\n",
      "  71\n",
      "u 72\n",
      "n 73\n",
      "t 74\n",
      "i 75\n",
      "l 76\n",
      "  77\n",
      "i 78\n",
      "t 79\n",
      "  80\n",
      "s 81\n",
      "e 82\n",
      "e 83\n",
      "s 84\n",
      "  85\n",
      "' 86\n",
      "' 87\n",
      "' 88\n",
      "\n",
      " 89\n",
      "\n",
      " 90\n"
     ]
    }
   ],
   "source": [
    "counter = 0\n",
    "for line in myString:\n",
    "    print(line, counter) \n",
    "    counter +=1"
   ]
  },
  {
   "cell_type": "code",
   "execution_count": null,
   "id": "1e9bee5a-f458-4344-8ee3-e4e5f8497bf1",
   "metadata": {},
   "outputs": [],
   "source": []
  }
 ],
 "metadata": {
  "kernelspec": {
   "display_name": "Python 3 (ipykernel)",
   "language": "python",
   "name": "python3"
  },
  "language_info": {
   "codemirror_mode": {
    "name": "ipython",
    "version": 3
   },
   "file_extension": ".py",
   "mimetype": "text/x-python",
   "name": "python",
   "nbconvert_exporter": "python",
   "pygments_lexer": "ipython3",
   "version": "3.11.3"
  }
 },
 "nbformat": 4,
 "nbformat_minor": 5
}
